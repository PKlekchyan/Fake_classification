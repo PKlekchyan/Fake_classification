{
 "cells": [
  {
   "cell_type": "markdown",
   "id": "54e02244",
   "metadata": {},
   "source": [
    "### Классификация заголовков новостей по двум классам: Настоящий, Фейк"
   ]
  },
  {
   "cell_type": "markdown",
   "id": "adbf6042",
   "metadata": {},
   "source": [
    "### Описание и предобработка данных"
   ]
  },
  {
   "cell_type": "code",
   "execution_count": 1,
   "id": "a2ae1c67",
   "metadata": {},
   "outputs": [],
   "source": [
    "import pandas as pd\n",
    "import numpy as np\n",
    "import matplotlib.pyplot as plt\n",
    "\n",
    "import warnings\n",
    "warnings.filterwarnings(\"ignore\")"
   ]
  },
  {
   "cell_type": "code",
   "execution_count": 2,
   "id": "21636c21",
   "metadata": {},
   "outputs": [],
   "source": [
    "df = pd.read_table('../dataset/train.tsv')"
   ]
  },
  {
   "cell_type": "code",
   "execution_count": 3,
   "id": "b70865d6",
   "metadata": {},
   "outputs": [
    {
     "data": {
      "text/html": [
       "<div>\n",
       "<style scoped>\n",
       "    .dataframe tbody tr th:only-of-type {\n",
       "        vertical-align: middle;\n",
       "    }\n",
       "\n",
       "    .dataframe tbody tr th {\n",
       "        vertical-align: top;\n",
       "    }\n",
       "\n",
       "    .dataframe thead th {\n",
       "        text-align: right;\n",
       "    }\n",
       "</style>\n",
       "<table border=\"1\" class=\"dataframe\">\n",
       "  <thead>\n",
       "    <tr style=\"text-align: right;\">\n",
       "      <th></th>\n",
       "      <th>title</th>\n",
       "      <th>is_fake</th>\n",
       "    </tr>\n",
       "  </thead>\n",
       "  <tbody>\n",
       "    <tr>\n",
       "      <th>0</th>\n",
       "      <td>Москвичу Владимиру Клутину пришёл счёт за вмеш...</td>\n",
       "      <td>1</td>\n",
       "    </tr>\n",
       "    <tr>\n",
       "      <th>1</th>\n",
       "      <td>Агент Кокорина назвал езду по встречке житейск...</td>\n",
       "      <td>0</td>\n",
       "    </tr>\n",
       "    <tr>\n",
       "      <th>2</th>\n",
       "      <td>Госдума рассмотрит возможность введения секрет...</td>\n",
       "      <td>1</td>\n",
       "    </tr>\n",
       "    <tr>\n",
       "      <th>3</th>\n",
       "      <td>ФАС заблокировала поставку скоростных трамваев...</td>\n",
       "      <td>0</td>\n",
       "    </tr>\n",
       "    <tr>\n",
       "      <th>4</th>\n",
       "      <td>Против Навального завели дело о недоносительст...</td>\n",
       "      <td>1</td>\n",
       "    </tr>\n",
       "  </tbody>\n",
       "</table>\n",
       "</div>"
      ],
      "text/plain": [
       "                                               title  is_fake\n",
       "0  Москвичу Владимиру Клутину пришёл счёт за вмеш...        1\n",
       "1  Агент Кокорина назвал езду по встречке житейск...        0\n",
       "2  Госдума рассмотрит возможность введения секрет...        1\n",
       "3  ФАС заблокировала поставку скоростных трамваев...        0\n",
       "4  Против Навального завели дело о недоносительст...        1"
      ]
     },
     "execution_count": 3,
     "metadata": {},
     "output_type": "execute_result"
    }
   ],
   "source": [
    "df.head()"
   ]
  },
  {
   "cell_type": "markdown",
   "id": "826cb5e5",
   "metadata": {},
   "source": [
    "#### Приведем данные к лемме"
   ]
  },
  {
   "cell_type": "code",
   "execution_count": 3,
   "id": "51484a4a",
   "metadata": {
    "scrolled": false
   },
   "outputs": [],
   "source": [
    "import re\n",
    "import nltk\n",
    "from pymorphy2 import MorphAnalyzer\n",
    "from pymystem3 import Mystem\n",
    "from nltk.corpus import stopwords\n",
    "from nltk.tokenize import word_tokenize"
   ]
  },
  {
   "cell_type": "code",
   "execution_count": 4,
   "id": "0246f918",
   "metadata": {},
   "outputs": [
    {
     "name": "stderr",
     "output_type": "stream",
     "text": [
      "[nltk_data] Downloading package punkt to\n",
      "[nltk_data]     C:\\Users\\79028\\AppData\\Roaming\\nltk_data...\n",
      "[nltk_data]   Package punkt is already up-to-date!\n",
      "[nltk_data] Downloading package stopwords to\n",
      "[nltk_data]     C:\\Users\\79028\\AppData\\Roaming\\nltk_data...\n",
      "[nltk_data]   Package stopwords is already up-to-date!\n"
     ]
    }
   ],
   "source": [
    "nltk.download('punkt')\n",
    "nltk.download('stopwords')\n",
    "stop_words = stopwords.words('russian')"
   ]
  },
  {
   "cell_type": "code",
   "execution_count": 5,
   "id": "cf94d1aa",
   "metadata": {},
   "outputs": [],
   "source": [
    "pymorphy = MorphAnalyzer()\n",
    "mystem = Mystem()"
   ]
  },
  {
   "cell_type": "code",
   "execution_count": 6,
   "id": "b7abc4b3",
   "metadata": {},
   "outputs": [],
   "source": [
    "# Приведение к лемме библиотекой Pymystem\n",
    "def lemma_mystem(string, stopwords):\n",
    "    lemma_tokens = mystem.lemmatize(string)\n",
    "    \n",
    "    if stopwords == True:\n",
    "        return [i for i in lemma_tokens if (i not in stop_words) and (i != ' ') and (i != '\\n')]\n",
    "    else:\n",
    "        return [i for i in lemma_tokens if (i != ' ') and (i != '\\n')]"
   ]
  },
  {
   "cell_type": "code",
   "execution_count": 7,
   "id": "0c17caeb",
   "metadata": {},
   "outputs": [],
   "source": [
    "# Приведение к лемме библиотекой Pymorphy\n",
    "def lemma_pymorphy(string, stopwords):\n",
    "    tokens = string.split()\n",
    "    \n",
    "    if stopwords == True:\n",
    "        tokens = [i for i in tokens if (i not in stop_words)]\n",
    "        \n",
    "    lemma_tokens = list(map(lambda x: pymorphy.parse(x)[0].normal_form, tokens))\n",
    "    \n",
    "    return lemma_tokens"
   ]
  },
  {
   "cell_type": "code",
   "execution_count": 8,
   "id": "db0c35eb",
   "metadata": {},
   "outputs": [],
   "source": [
    "# Функция приведения текста к лемме\n",
    "def to_lemma(text, lemmatizer=pymorphy, stopwords=False):\n",
    "    text = text.lower()\n",
    "    text = text.replace(\"ё\", \"е\")\n",
    "    text = re.sub(r'[^а-я a-z0-9]', '', text)\n",
    "    \n",
    "    if lemmatizer == pymorphy:\n",
    "        lemma_tokens = lemma_pymorphy(text, stopwords)\n",
    "    elif lemmatizer == mystem:\n",
    "        lemma_tokens = lemma_mystem(text, stopwords)\n",
    "        \n",
    "    return ' '.join(lemma_tokens)"
   ]
  },
  {
   "cell_type": "markdown",
   "id": "f3b9adef",
   "metadata": {},
   "source": [
    "#### Посчитаем кол-во слов в заголовках\n",
    "#### Считать будем на леммах pymorphy, данная библиотека преобразует слова к леммам гораздо быстрее "
   ]
  },
  {
   "cell_type": "code",
   "execution_count": 10,
   "id": "ebe4a391",
   "metadata": {},
   "outputs": [],
   "source": [
    "text_lemma = df['title'].apply(to_lemma)\n",
    "text_lemma_without_stop = df['title'].apply(to_lemma, stopwords=True)"
   ]
  },
  {
   "cell_type": "code",
   "execution_count": 11,
   "id": "b2ae41e7",
   "metadata": {},
   "outputs": [],
   "source": [
    "# Считаем количество\n",
    "def count_words(arr):\n",
    "    amount_with_stop = arr[0].apply(lambda x: len(x.split()))\n",
    "    amount_without_stop = arr[1].apply(lambda x: len(x.split()))     \n",
    "    return [amount_with_stop, amount_without_stop]"
   ]
  },
  {
   "cell_type": "code",
   "execution_count": 12,
   "id": "42b8b8a3",
   "metadata": {},
   "outputs": [],
   "source": [
    "# Визуализируем распределение\n",
    "def show_amount_of_words(arr):\n",
    "    list_ = count_words(arr)\n",
    "    \n",
    "    title = {0:'С стоп словами', 1: 'Без стоп слов'}\n",
    "    \n",
    "    plt.figure(figsize=(18,6))\n",
    "    for i in range(len(list_)):\n",
    "        plt.subplot(1,2,i+1)\n",
    "        plt.hist(list_[i], 40, density=True)\n",
    "        plt.xlabel('Количество слов в заголовке')\n",
    "        plt.ylabel('Доля заголовков')\n",
    "        plt.title(title[i])"
   ]
  },
  {
   "cell_type": "code",
   "execution_count": 13,
   "id": "0da83bbf",
   "metadata": {},
   "outputs": [],
   "source": [
    "# Показываем долю заголовком по кол-ву слов\n",
    "def share_of_words(arr, num_words=(10, 25)):\n",
    "    list_ = count_words(arr)\n",
    "    \n",
    "    data = []\n",
    "    \n",
    "    for i in range(num_words[0], num_words[1], 1):\n",
    "        percent_with_stop = 1-(list_[0]>i).sum()/list_[0].shape[0]\n",
    "        percent_without_stop = 1-(list_[1]>i).sum()/list_[1].shape[0]\n",
    "        \n",
    "        data.append((i, percent_with_stop, percent_without_stop))\n",
    "    return pd.DataFrame(data, columns=('Кол-во слов до:', 'Доля заголовков со стоп словами', 'Без стоп слов'))"
   ]
  },
  {
   "cell_type": "code",
   "execution_count": 14,
   "id": "c0f04351",
   "metadata": {
    "scrolled": false
   },
   "outputs": [
    {
     "data": {
      "image/png": "[encoded data removed]",
      "text/plain": [
       "<Figure size 1296x432 with 2 Axes>"
      ]
     },
     "metadata": {
      "needs_background": "light"
     },
     "output_type": "display_data"
    }
   ],
   "source": [
    "show_amount_of_words([text_lemma, text_lemma_without_stop])"
   ]
  },
  {
   "cell_type": "code",
   "execution_count": 15,
   "id": "9ea7e25a",
   "metadata": {
    "scrolled": false
   },
   "outputs": [
    {
     "data": {
      "text/html": [
       "<div>\n",
       "<style scoped>\n",
       "    .dataframe tbody tr th:only-of-type {\n",
       "        vertical-align: middle;\n",
       "    }\n",
       "\n",
       "    .dataframe tbody tr th {\n",
       "        vertical-align: top;\n",
       "    }\n",
       "\n",
       "    .dataframe thead th {\n",
       "        text-align: right;\n",
       "    }\n",
       "</style>\n",
       "<table border=\"1\" class=\"dataframe\">\n",
       "  <thead>\n",
       "    <tr style=\"text-align: right;\">\n",
       "      <th></th>\n",
       "      <th>Кол-во слов до:</th>\n",
       "      <th>Доля заголовков со стоп словами</th>\n",
       "      <th>Без стоп слов</th>\n",
       "    </tr>\n",
       "  </thead>\n",
       "  <tbody>\n",
       "    <tr>\n",
       "      <th>0</th>\n",
       "      <td>10</td>\n",
       "      <td>0.774053</td>\n",
       "      <td>0.936610</td>\n",
       "    </tr>\n",
       "    <tr>\n",
       "      <th>1</th>\n",
       "      <td>11</td>\n",
       "      <td>0.855332</td>\n",
       "      <td>0.969955</td>\n",
       "    </tr>\n",
       "    <tr>\n",
       "      <th>2</th>\n",
       "      <td>12</td>\n",
       "      <td>0.908128</td>\n",
       "      <td>0.984891</td>\n",
       "    </tr>\n",
       "    <tr>\n",
       "      <th>3</th>\n",
       "      <td>13</td>\n",
       "      <td>0.944599</td>\n",
       "      <td>0.991490</td>\n",
       "    </tr>\n",
       "    <tr>\n",
       "      <th>4</th>\n",
       "      <td>14</td>\n",
       "      <td>0.967697</td>\n",
       "      <td>0.994095</td>\n",
       "    </tr>\n",
       "    <tr>\n",
       "      <th>5</th>\n",
       "      <td>15</td>\n",
       "      <td>0.980896</td>\n",
       "      <td>0.996700</td>\n",
       "    </tr>\n",
       "    <tr>\n",
       "      <th>6</th>\n",
       "      <td>16</td>\n",
       "      <td>0.988364</td>\n",
       "      <td>0.997395</td>\n",
       "    </tr>\n",
       "    <tr>\n",
       "      <th>7</th>\n",
       "      <td>17</td>\n",
       "      <td>0.992358</td>\n",
       "      <td>0.997916</td>\n",
       "    </tr>\n",
       "    <tr>\n",
       "      <th>8</th>\n",
       "      <td>18</td>\n",
       "      <td>0.993922</td>\n",
       "      <td>0.998958</td>\n",
       "    </tr>\n",
       "    <tr>\n",
       "      <th>9</th>\n",
       "      <td>19</td>\n",
       "      <td>0.995311</td>\n",
       "      <td>0.999826</td>\n",
       "    </tr>\n",
       "    <tr>\n",
       "      <th>10</th>\n",
       "      <td>20</td>\n",
       "      <td>0.996527</td>\n",
       "      <td>0.999826</td>\n",
       "    </tr>\n",
       "    <tr>\n",
       "      <th>11</th>\n",
       "      <td>21</td>\n",
       "      <td>0.997742</td>\n",
       "      <td>0.999826</td>\n",
       "    </tr>\n",
       "    <tr>\n",
       "      <th>12</th>\n",
       "      <td>22</td>\n",
       "      <td>0.997916</td>\n",
       "      <td>0.999826</td>\n",
       "    </tr>\n",
       "    <tr>\n",
       "      <th>13</th>\n",
       "      <td>23</td>\n",
       "      <td>0.999132</td>\n",
       "      <td>0.999826</td>\n",
       "    </tr>\n",
       "    <tr>\n",
       "      <th>14</th>\n",
       "      <td>24</td>\n",
       "      <td>0.999132</td>\n",
       "      <td>0.999826</td>\n",
       "    </tr>\n",
       "  </tbody>\n",
       "</table>\n",
       "</div>"
      ],
      "text/plain": [
       "    Кол-во слов до:  Доля заголовков со стоп словами  Без стоп слов\n",
       "0                10                         0.774053       0.936610\n",
       "1                11                         0.855332       0.969955\n",
       "2                12                         0.908128       0.984891\n",
       "3                13                         0.944599       0.991490\n",
       "4                14                         0.967697       0.994095\n",
       "5                15                         0.980896       0.996700\n",
       "6                16                         0.988364       0.997395\n",
       "7                17                         0.992358       0.997916\n",
       "8                18                         0.993922       0.998958\n",
       "9                19                         0.995311       0.999826\n",
       "10               20                         0.996527       0.999826\n",
       "11               21                         0.997742       0.999826\n",
       "12               22                         0.997916       0.999826\n",
       "13               23                         0.999132       0.999826\n",
       "14               24                         0.999132       0.999826"
      ]
     },
     "execution_count": 15,
     "metadata": {},
     "output_type": "execute_result"
    }
   ],
   "source": [
    "share_of_words([text_lemma, text_lemma_without_stop])"
   ]
  },
  {
   "cell_type": "markdown",
   "id": "ba47d841",
   "metadata": {},
   "source": [
    "#### Как можно увидеть из таблицы, Заголовки со стоп словами длинной до 20 слов покрывают 99.65% всех данных.\n",
    "#### Заголовки без стоп слов покрывают 99.67% уже с длинной до 15 слов"
   ]
  },
  {
   "cell_type": "code",
   "execution_count": null,
   "id": "327fda68",
   "metadata": {},
   "outputs": [],
   "source": []
  },
  {
   "cell_type": "markdown",
   "id": "3f086bdf",
   "metadata": {},
   "source": [
    "### Во всех дальнейших моделях будем работать с текстовыми данными на леммах Pymystem без Стоп слов. Сравнение моделей будет на основе F1 метрики"
   ]
  },
  {
   "cell_type": "code",
   "execution_count": null,
   "id": "39f0074e",
   "metadata": {},
   "outputs": [],
   "source": []
  },
  {
   "cell_type": "markdown",
   "id": "61e823b4",
   "metadata": {},
   "source": [
    "## Классический ML"
   ]
  },
  {
   "cell_type": "code",
   "execution_count": 9,
   "id": "9c34db61",
   "metadata": {},
   "outputs": [],
   "source": [
    "from sklearn.feature_extraction.text import TfidfVectorizer\n",
    "from sklearn.metrics import f1_score, classification_report\n",
    "from sklearn.model_selection import train_test_split\n",
    "from sklearn.model_selection import cross_val_score\n",
    "from sklearn.model_selection import GridSearchCV\n",
    "\n",
    "from sklearn.ensemble import StackingClassifier\n",
    "from sklearn.linear_model import LogisticRegression\n",
    "from sklearn.neighbors import KNeighborsClassifier\n",
    "from sklearn.linear_model import RidgeClassifier\n",
    "from sklearn.svm import SVC\n",
    "\n",
    "from tqdm import tqdm"
   ]
  },
  {
   "cell_type": "markdown",
   "id": "7da3e764",
   "metadata": {},
   "source": [
    "#### Приведем наш текст к леммам. Сохраним результат в файл из-за долгой обработки pymystem"
   ]
  },
  {
   "cell_type": "code",
   "execution_count": 17,
   "id": "698f244d",
   "metadata": {},
   "outputs": [],
   "source": [
    "# Использовал при первом обучении, в дальнейшем импортировал предобработанные данные. Можно раскомментить для проверки\n",
    "\n",
    "# df['title'] = df['title'].apply(to_lemma, lemmatizer=mystem, stopwords=True)\n",
    "# df.to_csv('prepared_data/mystem_lemma.csv')"
   ]
  },
  {
   "cell_type": "code",
   "execution_count": 10,
   "id": "9710a8d6",
   "metadata": {},
   "outputs": [],
   "source": [
    "df = pd.read_csv('prepared_data/mystem_lemma.csv')"
   ]
  },
  {
   "cell_type": "markdown",
   "id": "6216ba6f",
   "metadata": {},
   "source": [
    "#### Обучение классических моделей будет на основе TF-IDF"
   ]
  },
  {
   "cell_type": "code",
   "execution_count": 13,
   "id": "f7ba5439",
   "metadata": {},
   "outputs": [
    {
     "data": {
      "text/html": [
       "<div>\n",
       "<style scoped>\n",
       "    .dataframe tbody tr th:only-of-type {\n",
       "        vertical-align: middle;\n",
       "    }\n",
       "\n",
       "    .dataframe tbody tr th {\n",
       "        vertical-align: top;\n",
       "    }\n",
       "\n",
       "    .dataframe thead th {\n",
       "        text-align: right;\n",
       "    }\n",
       "</style>\n",
       "<table border=\"1\" class=\"dataframe\">\n",
       "  <thead>\n",
       "    <tr style=\"text-align: right;\">\n",
       "      <th></th>\n",
       "      <th>Unnamed: 0</th>\n",
       "      <th>title</th>\n",
       "      <th>is_fake</th>\n",
       "    </tr>\n",
       "  </thead>\n",
       "  <tbody>\n",
       "    <tr>\n",
       "      <th>0</th>\n",
       "      <td>0</td>\n",
       "      <td>москвич владимир клутин приходить счет вмешате...</td>\n",
       "      <td>1</td>\n",
       "    </tr>\n",
       "    <tr>\n",
       "      <th>1</th>\n",
       "      <td>1</td>\n",
       "      <td>агент кокорин называть езда встречок житейский...</td>\n",
       "      <td>0</td>\n",
       "    </tr>\n",
       "    <tr>\n",
       "      <th>2</th>\n",
       "      <td>2</td>\n",
       "      <td>госдума рассматривать возможность введение сек...</td>\n",
       "      <td>1</td>\n",
       "    </tr>\n",
       "    <tr>\n",
       "      <th>3</th>\n",
       "      <td>3</td>\n",
       "      <td>фас заблокировать поставка скоростной трамвай ...</td>\n",
       "      <td>0</td>\n",
       "    </tr>\n",
       "    <tr>\n",
       "      <th>4</th>\n",
       "      <td>4</td>\n",
       "      <td>против навальный заводить дело недоносительств...</td>\n",
       "      <td>1</td>\n",
       "    </tr>\n",
       "    <tr>\n",
       "      <th>...</th>\n",
       "      <td>...</td>\n",
       "      <td>...</td>\n",
       "      <td>...</td>\n",
       "    </tr>\n",
       "    <tr>\n",
       "      <th>5753</th>\n",
       "      <td>5753</td>\n",
       "      <td>эдди чемберс получать сотрясение мозг бой кличко</td>\n",
       "      <td>0</td>\n",
       "    </tr>\n",
       "    <tr>\n",
       "      <th>5754</th>\n",
       "      <td>5754</td>\n",
       "      <td>правительство застраивать россия нефтепродукто...</td>\n",
       "      <td>0</td>\n",
       "    </tr>\n",
       "    <tr>\n",
       "      <th>5755</th>\n",
       "      <td>5755</td>\n",
       "      <td>стыдно дед новый канцлер фрг обращаться первый...</td>\n",
       "      <td>1</td>\n",
       "    </tr>\n",
       "    <tr>\n",
       "      <th>5756</th>\n",
       "      <td>5756</td>\n",
       "      <td>туркмения декабрь начинать поставка газ китай</td>\n",
       "      <td>0</td>\n",
       "    </tr>\n",
       "    <tr>\n",
       "      <th>5757</th>\n",
       "      <td>5757</td>\n",
       "      <td>бывший тренер локомотив возглавлять нальчикски...</td>\n",
       "      <td>0</td>\n",
       "    </tr>\n",
       "  </tbody>\n",
       "</table>\n",
       "<p>5758 rows × 3 columns</p>\n",
       "</div>"
      ],
      "text/plain": [
       "      Unnamed: 0                                              title  is_fake\n",
       "0              0  москвич владимир клутин приходить счет вмешате...        1\n",
       "1              1  агент кокорин называть езда встречок житейский...        0\n",
       "2              2  госдума рассматривать возможность введение сек...        1\n",
       "3              3  фас заблокировать поставка скоростной трамвай ...        0\n",
       "4              4  против навальный заводить дело недоносительств...        1\n",
       "...          ...                                                ...      ...\n",
       "5753        5753   эдди чемберс получать сотрясение мозг бой кличко        0\n",
       "5754        5754  правительство застраивать россия нефтепродукто...        0\n",
       "5755        5755  стыдно дед новый канцлер фрг обращаться первый...        1\n",
       "5756        5756      туркмения декабрь начинать поставка газ китай        0\n",
       "5757        5757  бывший тренер локомотив возглавлять нальчикски...        0\n",
       "\n",
       "[5758 rows x 3 columns]"
      ]
     },
     "execution_count": 13,
     "metadata": {},
     "output_type": "execute_result"
    }
   ],
   "source": [
    "df"
   ]
  },
  {
   "cell_type": "code",
   "execution_count": 20,
   "id": "fb41f49d",
   "metadata": {},
   "outputs": [],
   "source": [
    "train = df.head(4600)\n",
    "test = df.tail(1158)"
   ]
  },
  {
   "cell_type": "markdown",
   "id": "e4c53a55",
   "metadata": {},
   "source": [
    "#### Создаем корпус по двум классам"
   ]
  },
  {
   "cell_type": "code",
   "execution_count": 21,
   "id": "6624187c",
   "metadata": {},
   "outputs": [],
   "source": [
    "data_corp = [ \" \".join(train[train['is_fake'] == l]['title'].tolist()) for l in list(train['is_fake'].unique())]"
   ]
  },
  {
   "cell_type": "markdown",
   "id": "b813bcff",
   "metadata": {},
   "source": [
    "#### Подготавливаем данные с помощью TFIDF"
   ]
  },
  {
   "cell_type": "code",
   "execution_count": 22,
   "id": "aa73520f",
   "metadata": {},
   "outputs": [
    {
     "data": {
      "text/plain": [
       "TfidfVectorizer(ngram_range=(1, 2))"
      ]
     },
     "execution_count": 22,
     "metadata": {},
     "output_type": "execute_result"
    }
   ],
   "source": [
    "ml_vectorizer = TfidfVectorizer(ngram_range=(1,2))\n",
    "ml_vectorizer.fit(data_corp)"
   ]
  },
  {
   "cell_type": "code",
   "execution_count": 28,
   "id": "317cd6e5",
   "metadata": {},
   "outputs": [],
   "source": [
    "x_train_ml = ml_vectorizer.transform(train['title'].tolist())\n",
    "x_test_ml = ml_vectorizer.transform(test['title'].tolist())"
   ]
  },
  {
   "cell_type": "code",
   "execution_count": 27,
   "id": "75e4dbda",
   "metadata": {},
   "outputs": [],
   "source": [
    "y_train_ml = train['is_fake']\n",
    "y_test_ml = test['is_fake']"
   ]
  },
  {
   "cell_type": "code",
   "execution_count": 22,
   "id": "904045f7",
   "metadata": {},
   "outputs": [],
   "source": [
    "# X_ml = result_tfidf\n",
    "# y_ml = df['is_fake']"
   ]
  },
  {
   "cell_type": "markdown",
   "id": "367f8896",
   "metadata": {},
   "source": [
    "#### Разбиваем на train и test. Во всех последующих моделях будем использовать одинаковую разбивку на train и test"
   ]
  },
  {
   "cell_type": "code",
   "execution_count": 23,
   "id": "3660cac2",
   "metadata": {},
   "outputs": [],
   "source": [
    "# x_train_ml, x_test_ml, y_train_ml, y_test_ml = train_test_split(X_ml, y_ml, test_size=0.2, random_state=42)"
   ]
  },
  {
   "cell_type": "markdown",
   "id": "e8cabf54",
   "metadata": {},
   "source": [
    "### Stecking"
   ]
  },
  {
   "cell_type": "markdown",
   "id": "5585f9b4",
   "metadata": {},
   "source": [
    "#### Stecking будем обучать на SVM, LogisticRegression, KNeighborsClassifier и RidgeClassifier. Были выбраны такие модели из-за разницы типов\n",
    "#### Для начала найдем лучшие гиперпараметры для этих моделей"
   ]
  },
  {
   "cell_type": "code",
   "execution_count": 29,
   "id": "d79fba6b",
   "metadata": {},
   "outputs": [],
   "source": [
    "all_parametrs=[\n",
    "    # параметры для KNeighborsClassifier\n",
    "    {'name':'Knc',\"model\": KNeighborsClassifier(), 'params':{'n_neighbors':list(range(5,50,5)),\n",
    "                                                             'weights': ['uniform', 'distance'],\n",
    "                                                             'algorithm':['auto', 'ball_tree', 'kd_tree', 'brute'],\n",
    "                                                             'leaf_size':[i for i in range(10, 100, 10)]}},\n",
    "    \n",
    "    # параметры для LogisticRegression\n",
    "    {'name':'Log_reg',\"model\": LogisticRegression(), 'params':{'C':[0.01, 0.05, 0.1,0.2,0.3,0.5,0.7,1],\n",
    "                                                               'penalty':['l1', 'l2', 'elasticnet', 'none'],\n",
    "                                                               'solver':['newton-cg', 'lbfgs', 'liblinear', 'sag', 'saga']}},\n",
    "    \n",
    "    # параметры для RidgeClassifier\n",
    "    {'name':'Rc',\"model\": RidgeClassifier(), 'params':{'alpha':[0.01, 0.05, 0.1,0.2,0.3,0.5,0.7,1],\n",
    "                                                       'solver':['auto', 'svd', 'cholesky', 'lsqr', 'parse_cg', 'sag', 'saga', 'lbfgs']}},\n",
    "    \n",
    "    # параметры для SVC\n",
    "    {'name':'SVC',\"model\": SVC(), 'params':{'C':[0.01, 0.05, 0.1,0.2,0.3,0.5,0.7,1],\n",
    "                                            'kernel':['linear', 'poly', 'rbf', 'sigmoid'],\n",
    "                                            'gamma':['scale', 'auto']}}]"
   ]
  },
  {
   "cell_type": "code",
   "execution_count": 30,
   "id": "3ccbd423",
   "metadata": {},
   "outputs": [
    {
     "name": "stderr",
     "output_type": "stream",
     "text": [
      "100%|███████████████████████████████████████████████████████████████████████████████████| 4/4 [16:58<00:00, 254.64s/it]\n"
     ]
    }
   ],
   "source": [
    "models={}\n",
    "for i in tqdm(range(len(all_parametrs))):\n",
    "    model = GridSearchCV(all_parametrs[i]['model'], all_parametrs[i]['params'], cv=5, scoring='f1')\n",
    "    model.fit(x_train_ml, y_train_ml)\n",
    "    \n",
    "    best_model = model.best_estimator_\n",
    "\n",
    "    models[all_parametrs[i]['name']] = best_model"
   ]
  },
  {
   "cell_type": "markdown",
   "id": "d1290a90",
   "metadata": {},
   "source": [
    "#### Обучение Stacking модели"
   ]
  },
  {
   "cell_type": "code",
   "execution_count": 31,
   "id": "1852a81f",
   "metadata": {},
   "outputs": [],
   "source": [
    "sr = StackingClassifier(\n",
    "    [\n",
    "        ('RidgeCV', models['Rc']),\n",
    "        ('KNeighborsClassifier', models['Knc']),\n",
    "        ('SVM', models['SVC'])\n",
    "    ], \n",
    "    models['Log_reg']\n",
    ")"
   ]
  },
  {
   "cell_type": "code",
   "execution_count": 32,
   "id": "c0f89393",
   "metadata": {
    "scrolled": true
   },
   "outputs": [
    {
     "data": {
      "text/plain": [
       "StackingClassifier(estimators=[('RidgeCV',\n",
       "                                RidgeClassifier(alpha=0.05, solver='sag')),\n",
       "                               ('KNeighborsClassifier',\n",
       "                                KNeighborsClassifier(leaf_size=10)),\n",
       "                               ('SVM', SVC(C=1, kernel='linear'))],\n",
       "                   final_estimator=LogisticRegression(C=0.2, penalty='none',\n",
       "                                                      solver='sag'))"
      ]
     },
     "execution_count": 32,
     "metadata": {},
     "output_type": "execute_result"
    }
   ],
   "source": [
    "sr.fit(x_train_ml, y_train_ml)"
   ]
  },
  {
   "cell_type": "code",
   "execution_count": 33,
   "id": "6fa18550",
   "metadata": {},
   "outputs": [],
   "source": [
    "y_pred_ml = sr.predict(x_test_ml)"
   ]
  },
  {
   "cell_type": "code",
   "execution_count": 37,
   "id": "c8ead528",
   "metadata": {},
   "outputs": [
    {
     "data": {
      "text/plain": [
       "0.8504201680672269"
      ]
     },
     "execution_count": 37,
     "metadata": {},
     "output_type": "execute_result"
    }
   ],
   "source": [
    "f1_score(y_pred_ml, y_test_ml)"
   ]
  },
  {
   "cell_type": "code",
   "execution_count": 34,
   "id": "384b8509",
   "metadata": {},
   "outputs": [
    {
     "name": "stdout",
     "output_type": "stream",
     "text": [
      "              precision    recall  f1-score   support\n",
      "\n",
      "           0       0.82      0.87      0.84       546\n",
      "           1       0.88      0.83      0.85       612\n",
      "\n",
      "    accuracy                           0.85      1158\n",
      "   macro avg       0.85      0.85      0.85      1158\n",
      "weighted avg       0.85      0.85      0.85      1158\n",
      "\n"
     ]
    }
   ],
   "source": [
    "print(classification_report(y_pred_ml, y_test_ml))"
   ]
  },
  {
   "cell_type": "markdown",
   "id": "6a04fc00",
   "metadata": {},
   "source": [
    "#### Stecking модель на кросс валидации"
   ]
  },
  {
   "cell_type": "code",
   "execution_count": 40,
   "id": "a91b5322",
   "metadata": {},
   "outputs": [
    {
     "data": {
      "text/plain": [
       "array([0.8802589 , 0.87610619, 0.8930131 , 0.88222222, 0.89104639])"
      ]
     },
     "execution_count": 40,
     "metadata": {},
     "output_type": "execute_result"
    }
   ],
   "source": [
    "scores_sr = cross_val_score(sr, x_train_ml, y_train_ml, cv=5, scoring='f1')\n",
    "scores_sr"
   ]
  },
  {
   "cell_type": "code",
   "execution_count": 41,
   "id": "1b847675",
   "metadata": {},
   "outputs": [
    {
     "data": {
      "text/plain": [
       "0.8845293606435124"
      ]
     },
     "execution_count": 41,
     "metadata": {},
     "output_type": "execute_result"
    }
   ],
   "source": [
    "scores_sr.mean()"
   ]
  },
  {
   "cell_type": "markdown",
   "id": "74365d93",
   "metadata": {},
   "source": [
    "\n",
    "\n",
    "## Deep Learning"
   ]
  },
  {
   "cell_type": "markdown",
   "id": "cc656807",
   "metadata": {},
   "source": [
    "#### Для работы с нейронными сетями будем использовать предобученное векторное представление слов Word2vec. \n",
    "#### На основе \"ruwikiruscorpora_upos_cbow_300_10_2021\""
   ]
  },
  {
   "cell_type": "code",
   "execution_count": 36,
   "id": "d3c4292c",
   "metadata": {},
   "outputs": [],
   "source": [
    "import gensim\n",
    "import wget\n",
    "import zipfile"
   ]
  },
  {
   "cell_type": "markdown",
   "id": "3f9db7f9",
   "metadata": {},
   "source": [
    "#### Загрузка модели"
   ]
  },
  {
   "cell_type": "code",
   "execution_count": 37,
   "id": "69f9bd73",
   "metadata": {},
   "outputs": [],
   "source": [
    "vectors_model_url = 'http://vectors.nlpl.eu/repository/20/220.zip'"
   ]
  },
  {
   "cell_type": "code",
   "execution_count": null,
   "id": "59efd429",
   "metadata": {},
   "outputs": [],
   "source": [
    "# Использовал в первый раз, в дальнейшем импортировал\n",
    "m = wget.download(vectors_model_url)"
   ]
  },
  {
   "cell_type": "code",
   "execution_count": 38,
   "id": "589dad89",
   "metadata": {},
   "outputs": [],
   "source": [
    "model_file = vectors_model_url.split('/')[-1]\n",
    "with zipfile.ZipFile(model_file, 'r') as archive:\n",
    "    stream = archive.open('model.bin')\n",
    "    model_word2vec = gensim.models.KeyedVectors.load_word2vec_format(stream, binary=True)"
   ]
  },
  {
   "cell_type": "markdown",
   "id": "3f5beba3",
   "metadata": {},
   "source": [
    "####  Для работы с данной моделью необходимо Тегировать слова - указать часть речи\n",
    "#### Тегировать будем на основе Pymystem, однако теги нужно будет привести к виду UPos"
   ]
  },
  {
   "cell_type": "code",
   "execution_count": 39,
   "id": "82d56528",
   "metadata": {},
   "outputs": [],
   "source": [
    "# Словарь для конвертации\n",
    "mapping = {'A': 'ADJ', 'ADV': 'ADV', 'ADVPRO': 'ADV',\n",
    "           'ANUM': 'ADJ', 'APRO': 'DET', 'COM': 'ADJ',\n",
    "           'CONJ': 'SCONJ', 'INTJ': 'INTJ', 'NONLEX': 'X',\n",
    "           'NUM': 'NUM', 'PART': 'PART', 'PR': 'ADP', 'S': 'NOUN',\n",
    "           'SPRO': 'PRON', 'UNKN': 'X', 'V': 'VERB'}"
   ]
  },
  {
   "cell_type": "code",
   "execution_count": 40,
   "id": "8f83935d",
   "metadata": {},
   "outputs": [],
   "source": [
    "# Функция для тегирования\n",
    "m = Mystem()\n",
    "def mystem_tegging(text):\n",
    "    info = m.analyze(text)\n",
    "    tag_words = []\n",
    "    for i in info:\n",
    "        try:                     \n",
    "            \n",
    "            word = i['text']\n",
    "            if len(i['analysis']) != 0: \n",
    "                pos = i[\"analysis\"][0][\"gr\"].split(',')[0]\n",
    "                pos = pos.split('=')[0].strip()\n",
    "            else:\n",
    "                pos = 'UNKN'\n",
    "            \n",
    "            tag_words.append(word + '_' + mapping[pos])\n",
    "            \n",
    "        except KeyError:\n",
    "            continue\n",
    "            \n",
    "    return \" \".join(tag_words)"
   ]
  },
  {
   "cell_type": "markdown",
   "id": "cb3f001a",
   "metadata": {},
   "source": [
    "#### Тегирование данных"
   ]
  },
  {
   "cell_type": "code",
   "execution_count": 41,
   "id": "cbbca1b5",
   "metadata": {},
   "outputs": [],
   "source": [
    "# Использовал при первом обучении, в дальнейшем импортировал предобработанные данные. Можно раскомментить для проверки\n",
    "\n",
    "# df = pd.read_csv('prepared_data/mystem_lemma.csv')\n",
    "\n",
    "# df['title'] = df['title'].apply(mystem_tegging)\n",
    "\n",
    "# df.to_csv('prepared_data/mystem_lemma_tegging.csv')"
   ]
  },
  {
   "cell_type": "code",
   "execution_count": 42,
   "id": "de2cdd4e",
   "metadata": {},
   "outputs": [],
   "source": [
    "df = pd.read_csv('prepared_data/mystem_lemma_tegging.csv')"
   ]
  },
  {
   "cell_type": "markdown",
   "id": "eaff8a30",
   "metadata": {},
   "source": [
    "#### Токенизируем данные"
   ]
  },
  {
   "cell_type": "code",
   "execution_count": 43,
   "id": "befc98ac",
   "metadata": {},
   "outputs": [],
   "source": [
    "from keras.preprocessing.text import Tokenizer\n",
    "from keras.preprocessing.sequence import pad_sequences"
   ]
  },
  {
   "cell_type": "code",
   "execution_count": 44,
   "id": "f9876016",
   "metadata": {},
   "outputs": [],
   "source": [
    "X_nn = df['title'].tolist()\n",
    "y_nn = np.array(df['is_fake'].tolist())"
   ]
  },
  {
   "cell_type": "code",
   "execution_count": 45,
   "id": "28547261",
   "metadata": {},
   "outputs": [],
   "source": [
    "maxWords = 10000\n",
    "\n",
    "# Возьмем максимальную длину заголовка 15 токенов. Исходя из анализа данных видим,\n",
    "# что заголовки с длиной до 15 слов покрывают 99.67% всех данных \n",
    "maxLen = 15"
   ]
  },
  {
   "cell_type": "code",
   "execution_count": 46,
   "id": "c564bfed",
   "metadata": {},
   "outputs": [],
   "source": [
    "nn_tokenizer = Tokenizer(maxWords, filters='', lower=False)\n",
    "nn_tokenizer.fit_on_texts(X_nn)"
   ]
  },
  {
   "cell_type": "code",
   "execution_count": 47,
   "id": "00c7b99d",
   "metadata": {},
   "outputs": [],
   "source": [
    "data = nn_tokenizer.texts_to_sequences(X_nn)\n",
    "\n",
    "# Подгоняем все наши семплы под длину maxLen (удаляем лишнее или добавляем нули при недостатке)\n",
    "data = pad_sequences(data, maxLen)"
   ]
  },
  {
   "cell_type": "markdown",
   "id": "a49ef7c3",
   "metadata": {},
   "source": [
    "#### Embedding Matrix"
   ]
  },
  {
   "cell_type": "code",
   "execution_count": 48,
   "id": "aeacf458",
   "metadata": {},
   "outputs": [],
   "source": [
    "words = list(model_word2vec.index_to_key)"
   ]
  },
  {
   "cell_type": "code",
   "execution_count": 49,
   "id": "9f381792",
   "metadata": {},
   "outputs": [],
   "source": [
    "DIM = model_word2vec.vector_size \n",
    "\n",
    "# Инициализируем матрицу embedding слоя нулями\n",
    "embedding_matrix = np.zeros((maxWords, DIM))\n",
    "\n",
    "# Заполняем матрицу предобученными векторами по словам в нашем датасете\n",
    "for word, i in nn_tokenizer.word_index.items():\n",
    "    if i >= maxWords:\n",
    "        break\n",
    "    if word in words:\n",
    "        embedding_matrix[i] = model_word2vec[word]"
   ]
  },
  {
   "cell_type": "markdown",
   "id": "635412c8",
   "metadata": {},
   "source": [
    "#### Разбиваем данные на train и test (Используем те же значения параметров для разбиения на идентичные наборы в разных моделях)"
   ]
  },
  {
   "cell_type": "code",
   "execution_count": 50,
   "id": "dfc76abe",
   "metadata": {},
   "outputs": [],
   "source": [
    "x_train_nn, x_test_nn, y_train_nn, y_test_nn = train_test_split(data, y_nn, test_size=0.2, random_state=42)"
   ]
  },
  {
   "cell_type": "markdown",
   "id": "810b4052",
   "metadata": {},
   "source": [
    "### Нейронная сеть"
   ]
  },
  {
   "cell_type": "code",
   "execution_count": 51,
   "id": "85b0868b",
   "metadata": {},
   "outputs": [],
   "source": [
    "from tensorflow.keras.models import Sequential\n",
    "from tensorflow.keras.layers import Dense, Embedding, Dropout, MaxPooling1D, Conv1D,Flatten, SimpleRNN, LSTM, GRU, Bidirectional\n",
    "from tensorflow.keras.preprocessing.text import Tokenizer\n",
    "from tensorflow.keras.preprocessing.sequence import pad_sequences\n",
    "from tensorflow.keras.callbacks import ModelCheckpoint\n",
    "from tensorflow.keras.regularizers import l1, l2\n",
    "from keras import backend as K\n",
    "\n",
    "import kerastuner as kt\n",
    "from kerastuner.tuners import RandomSearch, Hyperband, BayesianOptimization"
   ]
  },
  {
   "cell_type": "markdown",
   "id": "de93054e",
   "metadata": {},
   "source": [
    "#### Функция для F1_score"
   ]
  },
  {
   "cell_type": "code",
   "execution_count": 52,
   "id": "1fb2627e",
   "metadata": {},
   "outputs": [],
   "source": [
    "def recall_m(y_true, y_pred):\n",
    "    true_positives = K.sum(K.round(K.clip(y_true * y_pred, 0, 1)))\n",
    "    possible_positives = K.sum(K.round(K.clip(y_true, 0, 1)))\n",
    "    recall = true_positives / (possible_positives + K.epsilon())\n",
    "    return recall\n",
    "\n",
    "def precision_m(y_true, y_pred):\n",
    "    true_positives = K.sum(K.round(K.clip(y_true * y_pred, 0, 1)))\n",
    "    predicted_positives = K.sum(K.round(K.clip(y_pred, 0, 1)))\n",
    "    precision = true_positives / (predicted_positives + K.epsilon())\n",
    "    return precision\n",
    "\n",
    "def f1_m(y_true, y_pred):\n",
    "    precision = precision_m(y_true, y_pred)\n",
    "    recall = recall_m(y_true, y_pred)\n",
    "    return 2*((precision*recall)/(precision+recall+K.epsilon()))"
   ]
  },
  {
   "cell_type": "markdown",
   "id": "171a1053",
   "metadata": {},
   "source": [
    "#### Создаем модель"
   ]
  },
  {
   "cell_type": "code",
   "execution_count": 65,
   "id": "2063acd2",
   "metadata": {
    "scrolled": true
   },
   "outputs": [],
   "source": [
    "model_nn = Sequential()\n",
    "model_nn.add(Embedding(maxWords, 64, input_length=maxLen))\n",
    "# model_nn.add(Embedding(maxWords, DIM, input_length=maxLen,\n",
    "#                           weights=[embedding_matrix], trainable=False))\n",
    "\n",
    "model_nn.add(GRU(128, return_sequences=True, dropout=0.2, recurrent_dropout=0.2))\n",
    "model_nn.add(GRU(64, dropout=0.2, recurrent_dropout=0.2))\n",
    "model_nn.add(Dense(32, activation='relu'))\n",
    "model_nn.add(Dropout(0.5))\n",
    "\n",
    "model_nn.add(Dense(1, activation='sigmoid'))\n",
    "\n",
    "model_nn.compile(optimizer='adam', \n",
    "              loss='binary_crossentropy', \n",
    "              metrics=[f1_m, precision_m, recall_m])"
   ]
  },
  {
   "cell_type": "code",
   "execution_count": 66,
   "id": "4c7ead1b",
   "metadata": {},
   "outputs": [],
   "source": [
    "model_nn_save_path = 'best_model.h5'\n",
    "checkpoint_callback = ModelCheckpoint(model_nn_save_path,\n",
    "                                     monitor='val_f1_m',\n",
    "                                     save_best_only=True)"
   ]
  },
  {
   "cell_type": "code",
   "execution_count": 67,
   "id": "dfe7acb2",
   "metadata": {
    "scrolled": false
   },
   "outputs": [
    {
     "name": "stdout",
     "output_type": "stream",
     "text": [
      "Epoch 1/10\n",
      "8/8 [==============================] - 7s 352ms/step - loss: 0.6899 - f1_m: 0.6122 - precision_m: 0.5530 - recall_m: 0.6930 - val_loss: 0.6773 - val_f1_m: 0.6550 - val_precision_m: 0.8849 - val_recall_m: 0.5199\n",
      "Epoch 2/10\n",
      "8/8 [==============================] - 2s 236ms/step - loss: 0.6542 - f1_m: 0.6568 - precision_m: 0.8677 - recall_m: 0.5386 - val_loss: 0.5933 - val_f1_m: 0.8034 - val_precision_m: 0.8148 - val_recall_m: 0.7923\n",
      "Epoch 3/10\n",
      "8/8 [==============================] - 2s 230ms/step - loss: 0.5155 - f1_m: 0.8005 - precision_m: 0.8531 - recall_m: 0.7559 - val_loss: 0.4358 - val_f1_m: 0.8008 - val_precision_m: 0.8684 - val_recall_m: 0.7431\n",
      "Epoch 4/10\n",
      "8/8 [==============================] - 2s 235ms/step - loss: 0.3575 - f1_m: 0.8592 - precision_m: 0.8887 - recall_m: 0.8364 - val_loss: 0.4088 - val_f1_m: 0.8214 - val_precision_m: 0.7777 - val_recall_m: 0.8705\n",
      "Epoch 5/10\n",
      "8/8 [==============================] - 2s 235ms/step - loss: 0.2274 - f1_m: 0.9250 - precision_m: 0.9313 - recall_m: 0.9217 - val_loss: 0.3756 - val_f1_m: 0.8443 - val_precision_m: 0.8246 - val_recall_m: 0.8650\n",
      "Epoch 6/10\n",
      "8/8 [==============================] - 2s 233ms/step - loss: 0.1308 - f1_m: 0.9664 - precision_m: 0.9717 - recall_m: 0.9612 - val_loss: 0.3938 - val_f1_m: 0.8582 - val_precision_m: 0.8544 - val_recall_m: 0.8621\n",
      "Epoch 7/10\n",
      "8/8 [==============================] - 2s 230ms/step - loss: 0.0767 - f1_m: 0.9780 - precision_m: 0.9840 - recall_m: 0.9722 - val_loss: 0.4866 - val_f1_m: 0.8524 - val_precision_m: 0.8060 - val_recall_m: 0.9044\n",
      "Epoch 8/10\n",
      "8/8 [==============================] - 2s 230ms/step - loss: 0.0448 - f1_m: 0.9898 - precision_m: 0.9908 - recall_m: 0.9889 - val_loss: 0.5091 - val_f1_m: 0.8608 - val_precision_m: 0.8600 - val_recall_m: 0.8617\n",
      "Epoch 9/10\n",
      "8/8 [==============================] - 2s 241ms/step - loss: 0.0227 - f1_m: 0.9953 - precision_m: 0.9960 - recall_m: 0.9946 - val_loss: 0.6280 - val_f1_m: 0.8536 - val_precision_m: 0.8074 - val_recall_m: 0.9055\n",
      "Epoch 10/10\n",
      "8/8 [==============================] - 2s 232ms/step - loss: 0.0159 - f1_m: 0.9963 - precision_m: 0.9971 - recall_m: 0.9955 - val_loss: 0.6609 - val_f1_m: 0.8610 - val_precision_m: 0.8503 - val_recall_m: 0.8721\n"
     ]
    }
   ],
   "source": [
    "history = model_nn.fit(x_train_nn, \n",
    "                    y_train_nn, \n",
    "                    epochs=10,\n",
    "                    batch_size=512,\n",
    "                    validation_split=0.2,\n",
    "                    callbacks=[checkpoint_callback],\n",
    "                    verbose=1)"
   ]
  },
  {
   "cell_type": "markdown",
   "id": "8649503a",
   "metadata": {},
   "source": [
    "#### Посмотрим на обучение"
   ]
  },
  {
   "cell_type": "code",
   "execution_count": 56,
   "id": "87682689",
   "metadata": {},
   "outputs": [],
   "source": [
    "def show_quality(history):\n",
    "    plt.plot(history.history['f1_m'], \n",
    "         label='f1 обучающем наборе')\n",
    "    plt.plot(history.history['val_f1_m'], \n",
    "             label='f1 на проверочном наборе')\n",
    "    plt.xlabel('Эпоха обучения')\n",
    "    plt.ylabel('f1_мера')\n",
    "    plt.legend()\n",
    "    plt.show()"
   ]
  },
  {
   "cell_type": "code",
   "execution_count": 68,
   "id": "b05b8a70",
   "metadata": {},
   "outputs": [
    {
     "data": {
      "image/png": "[encoded data removed]",
      "text/plain": [
       "<Figure size 432x288 with 1 Axes>"
      ]
     },
     "metadata": {
      "needs_background": "light"
     },
     "output_type": "display_data"
    }
   ],
   "source": [
    "show_quality(history)"
   ]
  },
  {
   "cell_type": "code",
   "execution_count": 69,
   "id": "5e57d9c5",
   "metadata": {
    "scrolled": true
   },
   "outputs": [
    {
     "name": "stdout",
     "output_type": "stream",
     "text": [
      "36/36 [==============================] - 1s 6ms/step - loss: 0.7001 - f1_m: 0.8365 - precision_m: 0.8532 - recall_m: 0.8272\n"
     ]
    },
    {
     "data": {
      "text/plain": [
       "[0.7000917792320251, 0.8365371823310852, 0.853155255317688, 0.8272272944450378]"
      ]
     },
     "execution_count": 69,
     "metadata": {},
     "output_type": "execute_result"
    }
   ],
   "source": [
    "model_nn.evaluate(x_test_nn, y_test_nn, verbose=1)"
   ]
  },
  {
   "cell_type": "code",
   "execution_count": 70,
   "id": "d671ee07",
   "metadata": {},
   "outputs": [],
   "source": [
    "def get_score_nn(model, x_test, y_test):\n",
    "    pred = model.predict(x_test)\n",
    "    arr = []\n",
    "    for i in pred:\n",
    "        if i >= 0.5:\n",
    "            arr.append(1)\n",
    "        else:\n",
    "            arr.append(0)\n",
    "            \n",
    "    print(classification_report(y_test, arr))\n",
    "    return arr"
   ]
  },
  {
   "cell_type": "code",
   "execution_count": 71,
   "id": "7bbf7cbf",
   "metadata": {
    "scrolled": false
   },
   "outputs": [
    {
     "name": "stdout",
     "output_type": "stream",
     "text": [
      "              precision    recall  f1-score   support\n",
      "\n",
      "           0       0.83      0.86      0.84       562\n",
      "           1       0.86      0.83      0.85       590\n",
      "\n",
      "    accuracy                           0.84      1152\n",
      "   macro avg       0.84      0.84      0.84      1152\n",
      "weighted avg       0.85      0.84      0.84      1152\n",
      "\n"
     ]
    }
   ],
   "source": [
    "y_pred_nn = get_score_nn(model_nn, x_test_nn, y_test_nn)"
   ]
  },
  {
   "cell_type": "code",
   "execution_count": 72,
   "id": "3e14c634",
   "metadata": {},
   "outputs": [
    {
     "data": {
      "text/plain": [
       "0.8460877042132416"
      ]
     },
     "execution_count": 72,
     "metadata": {},
     "output_type": "execute_result"
    }
   ],
   "source": [
    "f1_nn = f1_score(y_test_nn, y_pred_nn)\n",
    "f1_nn"
   ]
  },
  {
   "cell_type": "code",
   "execution_count": null,
   "id": "c68fd240",
   "metadata": {},
   "outputs": [],
   "source": []
  },
  {
   "cell_type": "markdown",
   "id": "42a2f5ad",
   "metadata": {},
   "source": [
    "### Для предсказания данных text.tsv мною выбран Ансамбль моделей - Stecking. Обоснованно значениями метрик F1, precision, recall"
   ]
  },
  {
   "cell_type": "markdown",
   "id": "3aa8b217",
   "metadata": {},
   "source": [
    "### Предсказание тестового набора данных"
   ]
  },
  {
   "cell_type": "code",
   "execution_count": 91,
   "id": "f63f96ca",
   "metadata": {},
   "outputs": [],
   "source": [
    "df_test = pd.read_table('../dataset/test.tsv')"
   ]
  },
  {
   "cell_type": "markdown",
   "id": "1f6e4056",
   "metadata": {},
   "source": [
    "#### Подготавливаем данные для предсказания"
   ]
  },
  {
   "cell_type": "code",
   "execution_count": 92,
   "id": "6aef6e9c",
   "metadata": {},
   "outputs": [],
   "source": [
    "data_test = df_test['title'].apply(to_lemma, lemmatizer = mystem, stopwords=True)"
   ]
  },
  {
   "cell_type": "code",
   "execution_count": 96,
   "id": "1c60529a",
   "metadata": {},
   "outputs": [],
   "source": [
    "data_test = ml_vectorizer.transform(data_test.tolist())"
   ]
  },
  {
   "cell_type": "markdown",
   "id": "4c4d9f71",
   "metadata": {},
   "source": [
    "#### Предсказываем класс"
   ]
  },
  {
   "cell_type": "code",
   "execution_count": 97,
   "id": "8c45e1dc",
   "metadata": {},
   "outputs": [],
   "source": [
    "test_pred = sr.predict(data_test)"
   ]
  },
  {
   "cell_type": "code",
   "execution_count": 98,
   "id": "0fadc171",
   "metadata": {},
   "outputs": [],
   "source": [
    "df_test['is_fake'] = pd.Series(test_pred)"
   ]
  },
  {
   "cell_type": "markdown",
   "id": "9f51eda5",
   "metadata": {},
   "source": [
    "#### Сохраняем test.tsv с предсказанными значениями"
   ]
  },
  {
   "cell_type": "code",
   "execution_count": 99,
   "id": "f19a6887",
   "metadata": {},
   "outputs": [],
   "source": [
    "df_test.to_csv('../predictions.tsv', index=False, sep=\"\\t\")"
   ]
  }
 ],
 "metadata": {
  "kernelspec": {
   "display_name": "Python 3 (ipykernel)",
   "language": "python",
   "name": "python3"
  },
  "language_info": {
   "codemirror_mode": {
    "name": "ipython",
    "version": 3
   },
   "file_extension": ".py",
   "mimetype": "text/x-python",
   "name": "python",
   "nbconvert_exporter": "python",
   "pygments_lexer": "ipython3",
   "version": "3.9.7"
  }
 },
 "nbformat": 4,
 "nbformat_minor": 5
}
